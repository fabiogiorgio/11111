{
 "cells": [
  {
   "cell_type": "markdown",
   "source": [],
   "metadata": {
    "id": "GDxiBx6dH6rB"
   }
  },
  {
   "cell_type": "code",
   "execution_count": null,
   "outputs": [],
   "source": [
    "# test cell. why is idea so slow"
   ],
   "metadata": {
    "collapsed": false
   }
  },
  {
   "cell_type": "markdown",
   "source": [
    "**First step to import the necessary libarary for the sickel cell project \"plotly.express\" is a Python data visualization library built on top of the plotly library.**"
   ],
   "metadata": {
    "id": "FDaeyELcIPhr"
   }
  },
  {
   "cell_type": "code",
   "execution_count": 8,
   "metadata": {
    "id": "lxyRryu_Mwzf"
   },
   "outputs": [],
   "source": [
    "from tensorflow.keras.layers import Input, Lambda, Dense, Flatten,Dropout\n",
    "from tensorflow.keras.models import Model\n",
    "from tensorflow.keras.applications.vgg19 import VGG19\n",
    "from tensorflow.keras.applications.vgg19 import preprocess_input\n",
    "from tensorflow.keras.preprocessing import image\n",
    "from tensorflow.keras.preprocessing.image import ImageDataGenerator\n",
    "from tensorflow.keras.models import Sequential\n",
    "from tensorflow.keras.callbacks import EarlyStopping\n",
    "from sklearn.model_selection import train_test_split\n",
    "import numpy as np\n",
    "import pandas as pd\n",
    "import os\n",
    "import cv2\n",
    "import matplotlib.pyplot as plt\n"
   ]
  },
  {
   "cell_type": "markdown",
   "source": [
    "**Loading the file Path**"
   ],
   "metadata": {
    "id": "KULCduC7KvMs"
   }
  },
  {
   "cell_type": "code",
   "source": [
    "train_dir = 'Dataset/Train/'\n",
    "test_dir = 'Dataset/Test'\n",
    "validatio_dir = 'Dataset/Validation'\n",
    "\n"
   ],
   "metadata": {
    "id": "wjZnZ8eRK4Oe"
   },
   "execution_count": 16,
   "outputs": []
  },
  {
   "cell_type": "markdown",
   "source": [
    "**Numpy arrays of the images of the training dataset**"
   ],
   "metadata": {
    "id": "Rom8yf9wPLjw"
   }
  },
  {
   "cell_type": "code",
   "source": [
    "x_train=[]\n",
    "\n",
    "for folder in os.listdir(train_dir):\n",
    "\n",
    "    sub_path=train_dir+\"/\"+folder\n",
    "\n",
    "    for img in os.listdir(sub_path):\n",
    "\n",
    "        image_path=sub_path+\"/\"+img\n",
    "\n",
    "        img_arr=cv2.imread(image_path)\n",
    "\n",
    "        img_arr=cv2.resize(img_arr,(224,224))\n",
    "\n",
    "        x_train.append(img_arr)\n",
    "\n"
   ],
   "metadata": {
    "id": "BKRT81JuPLBa"
   },
   "execution_count": 17,
   "outputs": []
  },
  {
   "cell_type": "markdown",
   "source": [
    "**x_test: Numpy arrays of the images of the testing dataset**"
   ],
   "metadata": {
    "id": "Y74VkLn0HE5B"
   }
  },
  {
   "cell_type": "code",
   "source": [
    "x_test=[]\n",
    "\n",
    "for folder in os.listdir(test_dir):\n",
    "\n",
    "    sub_path=test_dir+\"/\"+folder\n",
    "\n",
    "    for img in os.listdir(sub_path):\n",
    "\n",
    "        image_path=sub_path+\"/\"+img\n",
    "\n",
    "        img_arr=cv2.imread(image_path)\n",
    "\n",
    "        img_arr=cv2.resize(img_arr,(224,224))\n",
    "\n",
    "        x_test.append(img_arr)"
   ],
   "metadata": {
    "id": "nEGNH3s_HHzC"
   },
   "execution_count": null,
   "outputs": []
  },
  {
   "cell_type": "markdown",
   "source": [
    "x_val: Numpy arrays of the images of the validation dataset"
   ],
   "metadata": {
    "id": "0EdMM4PRaa0Z"
   }
  },
  {
   "cell_type": "code",
   "source": [
    "x_val=[]\n",
    "\n",
    "for folder in os.listdir(validatio_dir):\n",
    "\n",
    "    sub_path=validatio_dir+\"/\"+folder\n",
    "\n",
    "    for img in os.listdir(sub_path):\n",
    "\n",
    "        image_path=sub_path+\"/\"+img\n",
    "\n",
    "        img_arr=cv2.imread(image_path)\n",
    "\n",
    "        img_arr=cv2.resize(img_arr,(224,224))\n",
    "\n",
    "        x_val.append(img_arr)"
   ],
   "metadata": {
    "id": "uCZVAYphaZrL"
   },
   "execution_count": null,
   "outputs": []
  },
  {
   "cell_type": "markdown",
   "source": [
    "# Split the training set into training and validation **sets**"
   ],
   "metadata": {
    "id": "J_M1HT8BV76A"
   }
  },
  {
   "cell_type": "code",
   "source": [
    "#x_train, x_val = train_test_split(x_train, test_size=0.2, random_state=42)"
   ],
   "metadata": {
    "id": "ycbSSV8gV3N8"
   },
   "execution_count": null,
   "outputs": []
  },
  {
   "cell_type": "markdown",
   "source": [
    "x_train,x_test, and x_val must be divided by 255.0 for normalization."
   ],
   "metadata": {
    "id": "6JjVyTmZJ05n"
   }
  },
  {
   "cell_type": "code",
   "source": [
    "train_x=np.array(x_train)\n",
    "test_x=np.array(x_test)\n",
    "val_x=np.array(x_val)\n",
    "\n",
    "train_x=train_x/255.0\n",
    "test_x=test_x/255.0\n",
    "val_x=val_x/255.0"
   ],
   "metadata": {
    "id": "d2f77ryT7v2Z"
   },
   "execution_count": null,
   "outputs": []
  },
  {
   "cell_type": "markdown",
   "source": [
    "**Flow image data**"
   ],
   "metadata": {
    "id": "7PCjwKrlQFeg"
   }
  },
  {
   "cell_type": "code",
   "source": [
    "# Flow image data\n",
    "\n",
    "train_datagen = ImageDataGenerator(rescale = 1./255)\n",
    "test_datagen = ImageDataGenerator(rescale = 1./255)\n",
    "val_datagen = ImageDataGenerator(rescale = 1./255)\n",
    "training_set = train_datagen.flow_from_directory( directory=train_dir,\n",
    "    target_size=(224, 224),\n",
    "    color_mode='rgb',\n",
    "    class_mode='categorical',\n",
    "    batch_size=32,\n",
    "    shuffle=True,\n",
    "    seed=42,\n",
    "    subset='training')\n",
    "test_set = test_datagen.flow_from_directory( directory=test_dir,\n",
    "    target_size=(224, 224),\n",
    "    color_mode='rgb',\n",
    "    class_mode='categorical',\n",
    "    batch_size=32,\n",
    "    shuffle=False,\n",
    "    seed=42)\n",
    "val_set = val_datagen.flow_from_directory(validatio_dir,\n",
    "    target_size=(224, 224),\n",
    "    color_mode='rgb',\n",
    "    class_mode='categorical',\n",
    "    batch_size=32,\n",
    "    shuffle=True,\n",
    "    seed=42,\n",
    "    subset='validation')"
   ],
   "metadata": {
    "colab": {
     "base_uri": "https://localhost:8080/"
    },
    "id": "6IpXhYCYQWM-",
    "outputId": "2ed5dd34-887f-428b-fb05-0f96b25909e2"
   },
   "execution_count": null,
   "outputs": [
    {
     "output_type": "stream",
     "name": "stdout",
     "text": [
      "Found 1507 images belonging to 5 classes.\n",
      "Found 6 images belonging to 2 classes.\n",
      "Found 0 images belonging to 2 classes.\n"
     ]
    }
   ]
  },
  {
   "cell_type": "code",
   "source": [
    "training_set[0]"
   ],
   "metadata": {
    "id": "1QPuh66E8Wvb"
   },
   "execution_count": null,
   "outputs": []
  },
  {
   "cell_type": "code",
   "source": [
    "train_y=training_set.classes\n",
    "test_y=test_set.classes\n",
    "val_y=val_set.classes"
   ],
   "metadata": {
    "id": "DachX_tzbL_g"
   },
   "execution_count": null,
   "outputs": []
  },
  {
   "cell_type": "markdown",
   "source": [
    "**Classes have been encoded to interpret classification reports and confusion matrix later.**"
   ],
   "metadata": {
    "id": "3aFLMp0WbYje"
   }
  },
  {
   "cell_type": "code",
   "source": [
    "training_set.class_indices\n",
    "train_y.shape,test_y.shape,val_y.shape"
   ],
   "metadata": {
    "colab": {
     "base_uri": "https://localhost:8080/"
    },
    "id": "_fbVhtdObSQg",
    "outputId": "6afde0c0-eb03-49ad-ec02-c35b109b6bb1"
   },
   "execution_count": null,
   "outputs": [
    {
     "output_type": "execute_result",
     "data": {
      "text/plain": [
       "((1507,), (6,), (0,))"
      ]
     },
     "metadata": {},
     "execution_count": 105
    }
   ]
  },
  {
   "cell_type": "markdown",
   "source": [
    "**Importing a pretrained mpdel**"
   ],
   "metadata": {
    "id": "Bg3v2TfWbvNP"
   }
  },
  {
   "cell_type": "code",
   "source": [
    "IMAGE_SIZE = (224, 224)\n",
    "vgg = VGG19(input_shape=IMAGE_SIZE + (3,), weights='imagenet', include_top=False)\n",
    "for layer in vgg.layers:\n",
    "    layer.trainable = False"
   ],
   "metadata": {
    "id": "-fz7nkiMbull"
   },
   "execution_count": null,
   "outputs": []
  },
  {
   "cell_type": "code",
   "source": [
    "x = Flatten()(vgg.output)\n",
    "#adding output layer.Softmax classifier is used as it is multi-class classification\n",
    "prediction = Dense(5, activation='softmax')(x)\n",
    "\n",
    "model = Model(inputs=vgg.input, outputs=prediction)"
   ],
   "metadata": {
    "id": "VwNSUKKRcYkp"
   },
   "execution_count": null,
   "outputs": []
  },
  {
   "cell_type": "code",
   "source": [
    "# view the structure of the model\n",
    "model.summary()"
   ],
   "metadata": {
    "colab": {
     "base_uri": "https://localhost:8080/",
     "height": 183
    },
    "id": "B04xQ95VceAs",
    "outputId": "bf803256-3c53-4b99-a6a5-1d15a8f40d87"
   },
   "execution_count": null,
   "outputs": [
    {
     "output_type": "error",
     "ename": "NameError",
     "evalue": "ignored",
     "traceback": [
      "\u001B[0;31m---------------------------------------------------------------------------\u001B[0m",
      "\u001B[0;31mNameError\u001B[0m                                 Traceback (most recent call last)",
      "\u001B[0;32m<ipython-input-1-62a39b103b6d>\u001B[0m in \u001B[0;36m<module>\u001B[0;34m\u001B[0m\n\u001B[1;32m      1\u001B[0m \u001B[0;31m# view the structure of the model\u001B[0m\u001B[0;34m\u001B[0m\u001B[0;34m\u001B[0m\u001B[0m\n\u001B[0;32m----> 2\u001B[0;31m \u001B[0mmodel\u001B[0m\u001B[0;34m.\u001B[0m\u001B[0msummary\u001B[0m\u001B[0;34m(\u001B[0m\u001B[0;34m)\u001B[0m\u001B[0;34m\u001B[0m\u001B[0;34m\u001B[0m\u001B[0m\n\u001B[0m",
      "\u001B[0;31mNameError\u001B[0m: name 'model' is not defined"
     ]
    }
   ]
  },
  {
   "cell_type": "markdown",
   "source": [
    "**Compiling the model**"
   ],
   "metadata": {
    "id": "tYb8yNISghZP"
   }
  },
  {
   "cell_type": "code",
   "source": [
    "model.compile(\n",
    "  loss='categorical_crossentropy',\n",
    "  optimizer=\"adam\",\n",
    "  metrics=['accuracy']\n",
    ")\n",
    "\n"
   ],
   "metadata": {
    "id": "ZpRdORnIgt9B"
   },
   "execution_count": null,
   "outputs": []
  },
  {
   "cell_type": "markdown",
   "source": [
    "**Early stopping to avoid overfitting of model**"
   ],
   "metadata": {
    "id": "kGT3EV1Ug6si"
   }
  },
  {
   "cell_type": "code",
   "source": [
    "early_stop=EarlyStopping(monitor='val_loss',mode='min',verbose=1,patience=5)\n",
    "#Early stopping to avoid overfitting of model"
   ],
   "metadata": {
    "id": "B4PXeKj6iQpQ"
   },
   "execution_count": null,
   "outputs": []
  },
  {
   "cell_type": "markdown",
   "source": [
    "**Training the model**"
   ],
   "metadata": {
    "id": "235nlVVNhVQB"
   }
  },
  {
   "cell_type": "code",
   "source": [
    ".\n",
    "# fit the model\n",
    "history = model.fit(\n",
    "    training_set,\n",
    "    validation_data=val_set,\n",
    "    epochs=10,\n",
    "    callbacks=[early_stop],\n",
    "    batch_size=32,shuffle=True\n",
    ")"
   ],
   "metadata": {
    "colab": {
     "base_uri": "https://localhost:8080/"
    },
    "id": "CGf0mH3dhYhN",
    "outputId": "9620eb92-b629-4795-a7de-ee1e9e3fd71c"
   },
   "execution_count": null,
   "outputs": [
    {
     "output_type": "stream",
     "name": "stdout",
     "text": [
      "Epoch 1/10\n",
      "48/48 [==============================] - ETA: 0s - loss: 1.7616 - accuracy: 0.2687 "
     ]
    },
    {
     "output_type": "stream",
     "name": "stderr",
     "text": [
      "WARNING:tensorflow:Early stopping conditioned on metric `val_loss` which is not available. Available metrics are: loss,accuracy\n"
     ]
    },
    {
     "output_type": "stream",
     "name": "stdout",
     "text": [
      "\b\b\b\b\b\b\b\b\b\b\b\b\b\b\b\b\b\b\b\b\b\b\b\b\b\b\b\b\b\b\b\b\b\b\b\b\b\b\b\b\b\b\b\b\b\b\b\b\b\b\b\b\b\b\b\b\b\b\b\b\b\b\b\b\b\b\b\b\b\b\b\b\b\b\b\b\b\b\b\b\b\b\r48/48 [==============================] - 865s 18s/step - loss: 1.7616 - accuracy: 0.2687\n",
      "Epoch 2/10\n",
      "48/48 [==============================] - ETA: 0s - loss: 1.3374 - accuracy: 0.4300 "
     ]
    },
    {
     "output_type": "stream",
     "name": "stderr",
     "text": [
      "WARNING:tensorflow:Early stopping conditioned on metric `val_loss` which is not available. Available metrics are: loss,accuracy\n"
     ]
    },
    {
     "output_type": "stream",
     "name": "stdout",
     "text": [
      "\b\b\b\b\b\b\b\b\b\b\b\b\b\b\b\b\b\b\b\b\b\b\b\b\b\b\b\b\b\b\b\b\b\b\b\b\b\b\b\b\b\b\b\b\b\b\b\b\b\b\b\b\b\b\b\b\b\b\b\b\b\b\b\b\b\b\b\b\b\b\b\b\b\b\b\b\b\b\b\b\b\b\r48/48 [==============================] - 861s 18s/step - loss: 1.3374 - accuracy: 0.4300\n",
      "Epoch 3/10\n",
      "48/48 [==============================] - ETA: 0s - loss: 1.2244 - accuracy: 0.4983 "
     ]
    },
    {
     "output_type": "stream",
     "name": "stderr",
     "text": [
      "WARNING:tensorflow:Early stopping conditioned on metric `val_loss` which is not available. Available metrics are: loss,accuracy\n"
     ]
    },
    {
     "output_type": "stream",
     "name": "stdout",
     "text": [
      "\b\b\b\b\b\b\b\b\b\b\b\b\b\b\b\b\b\b\b\b\b\b\b\b\b\b\b\b\b\b\b\b\b\b\b\b\b\b\b\b\b\b\b\b\b\b\b\b\b\b\b\b\b\b\b\b\b\b\b\b\b\b\b\b\b\b\b\b\b\b\b\b\b\b\b\b\b\b\b\b\b\b\r48/48 [==============================] - 858s 18s/step - loss: 1.2244 - accuracy: 0.4983\n",
      "Epoch 4/10\n",
      "48/48 [==============================] - ETA: 0s - loss: 1.1024 - accuracy: 0.5328 "
     ]
    },
    {
     "output_type": "stream",
     "name": "stderr",
     "text": [
      "WARNING:tensorflow:Early stopping conditioned on metric `val_loss` which is not available. Available metrics are: loss,accuracy\n"
     ]
    },
    {
     "output_type": "stream",
     "name": "stdout",
     "text": [
      "\b\b\b\b\b\b\b\b\b\b\b\b\b\b\b\b\b\b\b\b\b\b\b\b\b\b\b\b\b\b\b\b\b\b\b\b\b\b\b\b\b\b\b\b\b\b\b\b\b\b\b\b\b\b\b\b\b\b\b\b\b\b\b\b\b\b\b\b\b\b\b\b\b\b\b\b\b\b\b\b\b\b\r48/48 [==============================] - 858s 18s/step - loss: 1.1024 - accuracy: 0.5328\n",
      "Epoch 5/10\n",
      "48/48 [==============================] - ETA: 0s - loss: 1.0493 - accuracy: 0.5733 "
     ]
    },
    {
     "output_type": "stream",
     "name": "stderr",
     "text": [
      "WARNING:tensorflow:Early stopping conditioned on metric `val_loss` which is not available. Available metrics are: loss,accuracy\n"
     ]
    },
    {
     "output_type": "stream",
     "name": "stdout",
     "text": [
      "\b\b\b\b\b\b\b\b\b\b\b\b\b\b\b\b\b\b\b\b\b\b\b\b\b\b\b\b\b\b\b\b\b\b\b\b\b\b\b\b\b\b\b\b\b\b\b\b\b\b\b\b\b\b\b\b\b\b\b\b\b\b\b\b\b\b\b\b\b\b\b\b\b\b\b\b\b\b\b\b\b\b\r48/48 [==============================] - 857s 18s/step - loss: 1.0493 - accuracy: 0.5733\n",
      "Epoch 6/10\n",
      "48/48 [==============================] - ETA: 0s - loss: 0.9552 - accuracy: 0.6198 "
     ]
    },
    {
     "output_type": "stream",
     "name": "stderr",
     "text": [
      "WARNING:tensorflow:Early stopping conditioned on metric `val_loss` which is not available. Available metrics are: loss,accuracy\n"
     ]
    },
    {
     "output_type": "stream",
     "name": "stdout",
     "text": [
      "\b\b\b\b\b\b\b\b\b\b\b\b\b\b\b\b\b\b\b\b\b\b\b\b\b\b\b\b\b\b\b\b\b\b\b\b\b\b\b\b\b\b\b\b\b\b\b\b\b\b\b\b\b\b\b\b\b\b\b\b\b\b\b\b\b\b\b\b\b\b\b\b\b\b\b\b\b\b\b\b\b\b\r48/48 [==============================] - 858s 18s/step - loss: 0.9552 - accuracy: 0.6198\n",
      "Epoch 7/10\n",
      "48/48 [==============================] - ETA: 0s - loss: 0.8653 - accuracy: 0.6556 "
     ]
    },
    {
     "output_type": "stream",
     "name": "stderr",
     "text": [
      "WARNING:tensorflow:Early stopping conditioned on metric `val_loss` which is not available. Available metrics are: loss,accuracy\n"
     ]
    },
    {
     "output_type": "stream",
     "name": "stdout",
     "text": [
      "\b\b\b\b\b\b\b\b\b\b\b\b\b\b\b\b\b\b\b\b\b\b\b\b\b\b\b\b\b\b\b\b\b\b\b\b\b\b\b\b\b\b\b\b\b\b\b\b\b\b\b\b\b\b\b\b\b\b\b\b\b\b\b\b\b\b\b\b\b\b\b\b\b\b\b\b\b\b\b\b\b\b\r48/48 [==============================] - 857s 18s/step - loss: 0.8653 - accuracy: 0.6556\n",
      "Epoch 8/10\n",
      "48/48 [==============================] - ETA: 0s - loss: 0.8105 - accuracy: 0.6948 "
     ]
    },
    {
     "output_type": "stream",
     "name": "stderr",
     "text": [
      "WARNING:tensorflow:Early stopping conditioned on metric `val_loss` which is not available. Available metrics are: loss,accuracy\n"
     ]
    },
    {
     "output_type": "stream",
     "name": "stdout",
     "text": [
      "\b\b\b\b\b\b\b\b\b\b\b\b\b\b\b\b\b\b\b\b\b\b\b\b\b\b\b\b\b\b\b\b\b\b\b\b\b\b\b\b\b\b\b\b\b\b\b\b\b\b\b\b\b\b\b\b\b\b\b\b\b\b\b\b\b\b\b\b\b\b\b\b\b\b\b\b\b\b\b\b\b\b\r48/48 [==============================] - 857s 18s/step - loss: 0.8105 - accuracy: 0.6948\n",
      "Epoch 9/10\n",
      "48/48 [==============================] - ETA: 0s - loss: 0.8115 - accuracy: 0.6967 "
     ]
    },
    {
     "output_type": "stream",
     "name": "stderr",
     "text": [
      "WARNING:tensorflow:Early stopping conditioned on metric `val_loss` which is not available. Available metrics are: loss,accuracy\n"
     ]
    },
    {
     "output_type": "stream",
     "name": "stdout",
     "text": [
      "\b\b\b\b\b\b\b\b\b\b\b\b\b\b\b\b\b\b\b\b\b\b\b\b\b\b\b\b\b\b\b\b\b\b\b\b\b\b\b\b\b\b\b\b\b\b\b\b\b\b\b\b\b\b\b\b\b\b\b\b\b\b\b\b\b\b\b\b\b\b\b\b\b\b\b\b\b\b\b\b\b\b\r48/48 [==============================] - 860s 18s/step - loss: 0.8115 - accuracy: 0.6967\n",
      "Epoch 10/10\n",
      "48/48 [==============================] - ETA: 0s - loss: 0.8231 - accuracy: 0.6742 "
     ]
    },
    {
     "output_type": "stream",
     "name": "stderr",
     "text": [
      "WARNING:tensorflow:Early stopping conditioned on metric `val_loss` which is not available. Available metrics are: loss,accuracy\n"
     ]
    },
    {
     "output_type": "stream",
     "name": "stdout",
     "text": [
      "\b\b\b\b\b\b\b\b\b\b\b\b\b\b\b\b\b\b\b\b\b\b\b\b\b\b\b\b\b\b\b\b\b\b\b\b\b\b\b\b\b\b\b\b\b\b\b\b\b\b\b\b\b\b\b\b\b\b\b\b\b\b\b\b\b\b\b\b\b\b\b\b\b\b\b\b\b\b\b\b\b\b\r48/48 [==============================] - 864s 18s/step - loss: 0.8231 - accuracy: 0.6742\n"
     ]
    }
   ]
  },
  {
   "cell_type": "code",
   "source": [
    "plt.plot(history.history['loss'], label='train acc')\n",
    "\n",
    "plt.plot(history.history['accuracy'], label='val acc')\n",
    "\n",
    "plt.legend()\n",
    "\n",
    "plt.savefig('vgg-acc-rps-1.png')\n",
    "\n",
    "plt.show()\n",
    "# loss\n",
    "plt.plot(history.history['loss'], label='train loss')\n",
    "plt.plot(history.history['val_loss'], label='val loss')\n",
    "plt.legend()\n",
    "plt.savefig('vgg-loss-rps-1.png')\n",
    "plt.show()"
   ],
   "metadata": {
    "colab": {
     "base_uri": "https://localhost:8080/",
     "height": 742
    },
    "id": "nWL6IT1cWDnM",
    "outputId": "01efff5a-bdd4-422c-c94c-2ce78cd37fe0"
   },
   "execution_count": null,
   "outputs": [
    {
     "output_type": "display_data",
     "data": {
      "text/plain": [
       "<Figure size 432x288 with 1 Axes>"
      ],
      "image/png": "[encoded data removed]"
     },
     "metadata": {
      "needs_background": "light"
     }
    },
    {
     "output_type": "error",
     "ename": "KeyError",
     "evalue": "ignored",
     "traceback": [
      "\u001B[0;31m---------------------------------------------------------------------------\u001B[0m",
      "\u001B[0;31mKeyError\u001B[0m                                  Traceback (most recent call last)",
      "\u001B[0;32m<ipython-input-18-56dafcec1c04>\u001B[0m in \u001B[0;36m<module>\u001B[0;34m\u001B[0m\n\u001B[1;32m     10\u001B[0m \u001B[0;31m# loss\u001B[0m\u001B[0;34m\u001B[0m\u001B[0;34m\u001B[0m\u001B[0m\n\u001B[1;32m     11\u001B[0m \u001B[0mplt\u001B[0m\u001B[0;34m.\u001B[0m\u001B[0mplot\u001B[0m\u001B[0;34m(\u001B[0m\u001B[0mhistory\u001B[0m\u001B[0;34m.\u001B[0m\u001B[0mhistory\u001B[0m\u001B[0;34m[\u001B[0m\u001B[0;34m'loss'\u001B[0m\u001B[0;34m]\u001B[0m\u001B[0;34m,\u001B[0m \u001B[0mlabel\u001B[0m\u001B[0;34m=\u001B[0m\u001B[0;34m'train loss'\u001B[0m\u001B[0;34m)\u001B[0m\u001B[0;34m\u001B[0m\u001B[0;34m\u001B[0m\u001B[0m\n\u001B[0;32m---> 12\u001B[0;31m \u001B[0mplt\u001B[0m\u001B[0;34m.\u001B[0m\u001B[0mplot\u001B[0m\u001B[0;34m(\u001B[0m\u001B[0mhistory\u001B[0m\u001B[0;34m.\u001B[0m\u001B[0mhistory\u001B[0m\u001B[0;34m[\u001B[0m\u001B[0;34m'val_loss'\u001B[0m\u001B[0;34m]\u001B[0m\u001B[0;34m,\u001B[0m \u001B[0mlabel\u001B[0m\u001B[0;34m=\u001B[0m\u001B[0;34m'val loss'\u001B[0m\u001B[0;34m)\u001B[0m\u001B[0;34m\u001B[0m\u001B[0;34m\u001B[0m\u001B[0m\n\u001B[0m\u001B[1;32m     13\u001B[0m \u001B[0mplt\u001B[0m\u001B[0;34m.\u001B[0m\u001B[0mlegend\u001B[0m\u001B[0;34m(\u001B[0m\u001B[0;34m)\u001B[0m\u001B[0;34m\u001B[0m\u001B[0;34m\u001B[0m\u001B[0m\n\u001B[1;32m     14\u001B[0m \u001B[0mplt\u001B[0m\u001B[0;34m.\u001B[0m\u001B[0msavefig\u001B[0m\u001B[0;34m(\u001B[0m\u001B[0;34m'vgg-loss-rps-1.png'\u001B[0m\u001B[0;34m)\u001B[0m\u001B[0;34m\u001B[0m\u001B[0;34m\u001B[0m\u001B[0m\n",
      "\u001B[0;31mKeyError\u001B[0m: 'val_loss'"
     ]
    },
    {
     "output_type": "display_data",
     "data": {
      "text/plain": [
       "<Figure size 432x288 with 1 Axes>"
      ],
      "image/png": "[encoded data removed]"
     },
     "metadata": {
      "needs_background": "light"
     }
    }
   ]
  },
  {
   "cell_type": "code",
   "source": [
    "CLASS_NAMES = list(train_images.class_indices.keys())\n",
    "\n",
    "CLASS_NAMES"
   ],
   "metadata": {
    "colab": {
     "base_uri": "https://localhost:8080/"
    },
    "id": "Q5s31e7oWkHR",
    "outputId": "78f733a7-e5af-412c-a4cc-811c8813d6a6"
   },
   "execution_count": null,
   "outputs": [
    {
     "output_type": "execute_result",
     "data": {
      "text/plain": [
       "['Phase 1', 'Phase 2', 'Phase 3', 'Phase 4', 'Phase 5']"
      ]
     },
     "metadata": {},
     "execution_count": 14
    }
   ]
  },
  {
   "cell_type": "code",
   "source": [
    "predictions = np.argmax(model.predict(test_images), axis=1)\n",
    "\n",
    "acc = accuracy_score(test_images.labels, predictions)\n",
    "cm = tf.math.confusion_matrix(test_images.labels, predictions)\n",
    "clr = classification_report(test_images.labels, predictions, target_names=CLASS_NAMES)\n",
    "\n",
    "print(\"Test Accuracy: {:.3f}%\".format(acc * 100))\n",
    "\n",
    "plt.figure(figsize=(8, 8))\n",
    "sns.heatmap(cm, annot=True, fmt='g', vmin=0, cmap='Blues', cbar=False)\n",
    "plt.xticks(ticks= np.arange(5) + 0.5, labels=CLASS_NAMES)\n",
    "plt.yticks(ticks= np.arange(5) + 0.5, labels=CLASS_NAMES)\n",
    "plt.xlabel(\"Predicted\")\n",
    "plt.ylabel(\"Actual\")\n",
    "plt.title(\"Confusion Matrix\")\n",
    "plt.show()\n",
    "print(\"Classification Report:\\n----------------------\\n\", clr)"
   ],
   "metadata": {
    "colab": {
     "base_uri": "https://localhost:8080/",
     "height": 408
    },
    "id": "nGYvIyhfnfKZ",
    "outputId": "25fed240-6915-4b4c-b208-c7164aac8885"
   },
   "execution_count": null,
   "outputs": [
    {
     "output_type": "stream",
     "name": "stdout",
     "text": [
      "1/1 [==============================] - 0s 278ms/step\n"
     ]
    },
    {
     "output_type": "error",
     "ename": "ValueError",
     "evalue": "ignored",
     "traceback": [
      "\u001B[0;31m---------------------------------------------------------------------------\u001B[0m",
      "\u001B[0;31mValueError\u001B[0m                                Traceback (most recent call last)",
      "\u001B[0;32m<ipython-input-15-fb6efa593cb8>\u001B[0m in \u001B[0;36m<module>\u001B[0;34m\u001B[0m\n\u001B[1;32m      3\u001B[0m \u001B[0macc\u001B[0m \u001B[0;34m=\u001B[0m \u001B[0maccuracy_score\u001B[0m\u001B[0;34m(\u001B[0m\u001B[0mtest_images\u001B[0m\u001B[0;34m.\u001B[0m\u001B[0mlabels\u001B[0m\u001B[0;34m,\u001B[0m \u001B[0mpredictions\u001B[0m\u001B[0;34m)\u001B[0m\u001B[0;34m\u001B[0m\u001B[0;34m\u001B[0m\u001B[0m\n\u001B[1;32m      4\u001B[0m \u001B[0mcm\u001B[0m \u001B[0;34m=\u001B[0m \u001B[0mtf\u001B[0m\u001B[0;34m.\u001B[0m\u001B[0mmath\u001B[0m\u001B[0;34m.\u001B[0m\u001B[0mconfusion_matrix\u001B[0m\u001B[0;34m(\u001B[0m\u001B[0mtest_images\u001B[0m\u001B[0;34m.\u001B[0m\u001B[0mlabels\u001B[0m\u001B[0;34m,\u001B[0m \u001B[0mpredictions\u001B[0m\u001B[0;34m)\u001B[0m\u001B[0;34m\u001B[0m\u001B[0;34m\u001B[0m\u001B[0m\n\u001B[0;32m----> 5\u001B[0;31m \u001B[0mclr\u001B[0m \u001B[0;34m=\u001B[0m \u001B[0mclassification_report\u001B[0m\u001B[0;34m(\u001B[0m\u001B[0mtest_images\u001B[0m\u001B[0;34m.\u001B[0m\u001B[0mlabels\u001B[0m\u001B[0;34m,\u001B[0m \u001B[0mpredictions\u001B[0m\u001B[0;34m,\u001B[0m \u001B[0mtarget_names\u001B[0m\u001B[0;34m=\u001B[0m\u001B[0mCLASS_NAMES\u001B[0m\u001B[0;34m)\u001B[0m\u001B[0;34m\u001B[0m\u001B[0;34m\u001B[0m\u001B[0m\n\u001B[0m\u001B[1;32m      6\u001B[0m \u001B[0;34m\u001B[0m\u001B[0m\n\u001B[1;32m      7\u001B[0m \u001B[0mprint\u001B[0m\u001B[0;34m(\u001B[0m\u001B[0;34m\"Test Accuracy: {:.3f}%\"\u001B[0m\u001B[0;34m.\u001B[0m\u001B[0mformat\u001B[0m\u001B[0;34m(\u001B[0m\u001B[0macc\u001B[0m \u001B[0;34m*\u001B[0m \u001B[0;36m100\u001B[0m\u001B[0;34m)\u001B[0m\u001B[0;34m)\u001B[0m\u001B[0;34m\u001B[0m\u001B[0;34m\u001B[0m\u001B[0m\n",
      "\u001B[0;32m/usr/local/lib/python3.9/dist-packages/sklearn/metrics/_classification.py\u001B[0m in \u001B[0;36mclassification_report\u001B[0;34m(y_true, y_pred, labels, target_names, sample_weight, digits, output_dict, zero_division)\u001B[0m\n\u001B[1;32m   2330\u001B[0m             )\n\u001B[1;32m   2331\u001B[0m         \u001B[0;32melse\u001B[0m\u001B[0;34m:\u001B[0m\u001B[0;34m\u001B[0m\u001B[0;34m\u001B[0m\u001B[0m\n\u001B[0;32m-> 2332\u001B[0;31m             raise ValueError(\n\u001B[0m\u001B[1;32m   2333\u001B[0m                 \u001B[0;34m\"Number of classes, {0}, does not match size of \"\u001B[0m\u001B[0;34m\u001B[0m\u001B[0;34m\u001B[0m\u001B[0m\n\u001B[1;32m   2334\u001B[0m                 \u001B[0;34m\"target_names, {1}. Try specifying the labels \"\u001B[0m\u001B[0;34m\u001B[0m\u001B[0;34m\u001B[0m\u001B[0m\n",
      "\u001B[0;31mValueError\u001B[0m: Number of classes, 4, does not match size of target_names, 5. Try specifying the labels parameter"
     ]
    }
   ]
  }
 ],
 "metadata": {
  "colab": {
   "provenance": []
  },
  "kernelspec": {
   "display_name": "Python 3",
   "name": "python3"
  }
 },
 "nbformat": 4,
 "nbformat_minor": 0
}
